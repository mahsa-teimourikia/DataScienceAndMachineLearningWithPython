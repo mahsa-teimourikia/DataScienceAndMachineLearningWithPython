{
 "cells": [
  {
   "cell_type": "markdown",
   "metadata": {},
   "source": [
    "# Learning Jupyter\n",
    "\n",
    "#### (The reference of this tutorial is the Data Science Foundations: Python Scientific Stack course in Linkdin Learning)\n",
    "\n",
    "We start with executing a simple command: 42 + 3\n",
    "\n",
    "To run the cell, we have two options. We can click on the run cell button, which looks like a play button next to the square button. The other option to run a cell is by using the keyboard. You can either click Control + Enter to run the cell, or Shift + Enter to run the cell and create a new one below.\n",
    "\n",
    "One feature for keyboard shortcut addicts like me is opening the command palette, which is Command + Shift + P on Mac, and on other systems, it's Control + Shift + P. From there you see all commands."
   ]
  },
  {
   "cell_type": "code",
   "execution_count": 1,
   "metadata": {},
   "outputs": [
    {
     "data": {
      "text/plain": [
       "45"
      ]
     },
     "execution_count": 1,
     "metadata": {},
     "output_type": "execute_result"
    }
   ],
   "source": [
    "42 + 3"
   ]
  },
  {
   "cell_type": "markdown",
   "metadata": {},
   "source": [
    "This is our history, and Jupyter makes it available for us. I can type Out and then [1] in square brackets, to get the result of the first computation. This is very handy when I run some computation and later want to use the result. Instead of free running with assigning the results to a variable, I can just say x = Out[1] of one, and now I have the result, and again I'm going to hit Shift + Enter to view the result, and it's 42, and we can continue from there."
   ]
  },
  {
   "cell_type": "code",
   "execution_count": 2,
   "metadata": {},
   "outputs": [],
   "source": [
    "x=Out[1]"
   ]
  },
  {
   "cell_type": "markdown",
   "metadata": {},
   "source": [
    "Let's import numpy by writing import numpy as np, and hitting Shift + Enter."
   ]
  },
  {
   "cell_type": "code",
   "execution_count": 3,
   "metadata": {},
   "outputs": [],
   "source": [
    "import numpy as np"
   ]
  },
  {
   "cell_type": "markdown",
   "metadata": {},
   "source": [
    "In the next cell, write np. and hit Tab. You will see a dropdown with all defined attributes in numpy. If you start typing, for example si, the dropdown will be filtered quickly only to the attributes that have the prefix that you wrote. So you can quickly select the function you're looking for. We can also start to write the function call, and then hit Shift + Tab, to view list of arguments. If you start writing a keyword argument, and then hit Tab, Jupyter will complete the name for us and will add the equals sign so it can provide the value."
   ]
  },
  {
   "cell_type": "code",
   "execution_count": 4,
   "metadata": {},
   "outputs": [
    {
     "data": {
      "text/plain": [
       "-0.9589242746631385"
      ]
     },
     "execution_count": 4,
     "metadata": {},
     "output_type": "execute_result"
    }
   ],
   "source": [
    "np.sin(5)"
   ]
  },
  {
   "cell_type": "markdown",
   "metadata": {},
   "source": [
    "Let's check the help. So type np.sin, and then add a question mark after it, and execute this cell. Again we Shift + Enter or clicking on the Run button. You'll see a small window opening up with the help for np.sin."
   ]
  },
  {
   "cell_type": "code",
   "execution_count": 5,
   "metadata": {},
   "outputs": [],
   "source": [
    "np.sin?"
   ]
  },
  {
   "cell_type": "markdown",
   "metadata": {},
   "source": [
    "Sometimes, the built-in help is not enough, and we'd like to view the source code as well. For this, we'll use two question marks instead of one. "
   ]
  },
  {
   "cell_type": "code",
   "execution_count": 6,
   "metadata": {},
   "outputs": [],
   "source": [
    "np.any??"
   ]
  },
  {
   "cell_type": "markdown",
   "metadata": {},
   "source": [
    "We also have what is known as magic commands. This command starts with a percent sign, and are not part of regular Python. There are many magic commands. We will cover most of the common ones as we go. One useful command is %pwd, which shows the current working directory. "
   ]
  },
  {
   "cell_type": "code",
   "execution_count": 7,
   "metadata": {},
   "outputs": [
    {
     "data": {
      "text/plain": [
       "'C:\\\\Users\\\\Mahsa\\\\Git Home'"
      ]
     },
     "execution_count": 7,
     "metadata": {},
     "output_type": "execute_result"
    }
   ],
   "source": [
    "%pwd"
   ]
  },
  {
   "cell_type": "markdown",
   "metadata": {},
   "source": [
    "Some magic commands are just for one line, and some are for the whole cell. They start with two percent signs. Write two percent signs, and then time. Then some code in the cell to see how much time this cell is going to take."
   ]
  },
  {
   "cell_type": "code",
   "execution_count": 8,
   "metadata": {},
   "outputs": [
    {
     "name": "stdout",
     "output_type": "stream",
     "text": [
      "0.0\n",
      "0.8414709848078965\n",
      "0.9092974268256817\n",
      "0.1411200080598672\n",
      "-0.7568024953079282\n",
      "Wall time: 0 ns\n"
     ]
    }
   ],
   "source": [
    "%%time\n",
    "for i in range(5):\n",
    "    print(np.sin(i))"
   ]
  },
  {
   "cell_type": "markdown",
   "metadata": {},
   "source": [
    "There are many magic commands. You can run the %magic magic to view all of them."
   ]
  },
  {
   "cell_type": "code",
   "execution_count": 9,
   "metadata": {},
   "outputs": [],
   "source": [
    "%magic"
   ]
  },
  {
   "cell_type": "markdown",
   "metadata": {},
   "source": [
    "Another feature that Jupyter has is calling shell commands. Let's say that we'll like to see all the files in a directory."
   ]
  },
  {
   "cell_type": "code",
   "execution_count": 10,
   "metadata": {},
   "outputs": [
    {
     "name": "stdout",
     "output_type": "stream",
     "text": [
      " Il volume nell'unità C è TIH0125200A\n",
      " Numero di serie del volume: 7496-288C\n",
      "\n",
      " Directory di C:\\Users\\Mahsa\n",
      "\n",
      "17/03/2018  22:34    <DIR>          .\n",
      "17/03/2018  22:34    <DIR>          ..\n",
      "26/03/2017  15:05    <DIR>          .anaconda\n",
      "27/10/2017  08:25    <DIR>          .ARISIntegrationXI\n",
      "26/03/2017  15:58    <DIR>          .conda\n",
      "24/10/2017  14:30    <DIR>          .eclipse\n",
      "19/06/2017  13:19               114 .gitconfig\n",
      "26/03/2017  16:02    <DIR>          .ipynb_checkpoints\n",
      "26/03/2017  15:08    <DIR>          .ipython\n",
      "26/03/2017  15:09    <DIR>          .jupyter\n",
      "06/07/2017  11:36               164 .KJWizardJNI.prefs\n",
      "06/07/2017  11:36               270 .KJWizardJNIUser.prefs\n",
      "26/03/2017  16:04    <DIR>          .matplotlib\n",
      "06/12/2016  16:21    <DIR>          .oracle_jre_usage\n",
      "13/03/2018  15:58    <DIR>          .p2\n",
      "08/03/2017  16:30               319 .pi_repository.ip7.sasv02pn_sacoa91r.tmp\n",
      "08/03/2017  16:28               319 .pi_repository.jd9.sasv03yt_sacoa91q.tmp\n",
      "19/01/2018  10:23               316 .pi_repository.php.zamephppodb_techedge2.tmp\n",
      "13/03/2018  15:57               316 .pi_repository.poq.poqdb_mteimourikia.tmp\n",
      "04/07/2017  15:42    <DIR>          .PyCharmCE2017.1\n",
      "03/12/2017  17:50                69 .sapmc\n",
      "14/05/2017  16:01    <DIR>          .sappa\n",
      "08/03/2017  16:18               423 .scrDIR_sasapip7.saipemnet.saipem.intranet810950101.tmp\n",
      "08/11/2016  11:25    <DIR>          .soapuios\n",
      "21/05/2017  20:58    <DIR>          .swt\n",
      "02/08/2017  14:46    <DIR>          .VirtualBox\n",
      "17/03/2018  22:34    <DIR>          .vscode\n",
      "15/03/2018  08:52    <DIR>          3D Objects\n",
      "17/03/2018  22:09    <DIR>          Anaconda3\n",
      "17/03/2018  22:34    <DIR>          Anaconda35\n",
      "31/08/2017  17:06    <DIR>          AnypointStudio\n",
      "15/03/2018  08:52    <DIR>          Contacts\n",
      "16/03/2018  14:36               365 default-soapui-workspace.xml\n",
      "15/03/2018  08:52    <DIR>          Desktop\n",
      "16/03/2018  14:36    <DIR>          Documents\n",
      "17/03/2018  22:07    <DIR>          Downloads\n",
      "05/07/2017  13:59    <DIR>          Dropbox\n",
      "09/11/2016  10:14    <DIR>          ESR\n",
      "15/03/2018  08:52    <DIR>          Favorites\n",
      "15/11/2016  09:50               235 file_sender_00001.xml\n",
      "15/11/2016  11:50               235 file_sender_00003.xml\n",
      "19/06/2017  13:18    <DIR>          git\n",
      "17/03/2018  23:51    <DIR>          Git Home\n",
      "17/03/2018  11:20    <DIR>          Google Drive\n",
      "26/03/2017  16:48             3.858 Kaggle Titanic.ipynb\n",
      "15/03/2018  08:52    <DIR>          Links\n",
      "14/06/2017  09:59    <DIR>          MuleSoft\n",
      "20/06/2017  11:13    <DIR>          MuleSoft-Examples\n",
      "15/03/2018  08:52    <DIR>          Music\n",
      "05/03/2018  11:10    <DIR>          OneDrive\n",
      "30/03/2017  08:09    <DIR>          OpenVPN\n",
      "03/11/2016  23:07                59 pc-client.properties\n",
      "15/03/2018  08:52    <DIR>          Pictures\n",
      "23/02/2017  11:27    <DIR>          ProM Lite 1.1\n",
      "04/07/2017  15:44    <DIR>          PycharmProjects\n",
      "26/03/2017  16:22    <DIR>          PythonData\n",
      "27/04/2016  14:31    <DIR>          Roaming\n",
      "14/05/2017  16:01    <DIR>          SAP Predictive Components\n",
      "15/03/2018  08:52    <DIR>          Saved Games\n",
      "15/03/2018  08:52    <DIR>          Searches\n",
      "16/03/2018  14:36            14.023 soapui-settings.xml\n",
      "08/11/2016  11:25    <DIR>          SoapUI-Tutorials\n",
      "18/11/2016  12:37    <DIR>          Tracing\n",
      "26/03/2017  15:06    <DIR>          Untitled Folder\n",
      "26/03/2017  15:07                 0 untitled.txt\n",
      "15/03/2018  08:52    <DIR>          Videos\n",
      "21/06/2017  08:13    <DIR>          VirtualBox VMs\n",
      "06/12/2017  09:47    <DIR>          workspace\n",
      "24/10/2017  14:13    <DIR>          workspace.jdi\n",
      "11/12/2017  11:47    <DIR>          workspace_test\n",
      "11/12/2017  11:17    <DIR>          workspace_test.jdi\n",
      "              16 File         21.085 byte\n",
      "              55 Directory  16.789.356.544 byte disponibili\n"
     ]
    }
   ],
   "source": [
    "!dir C:\\Users\\Mahsa"
   ]
  },
  {
   "cell_type": "code",
   "execution_count": 11,
   "metadata": {},
   "outputs": [],
   "source": [
    "dirname = 'C:\\\\Users\\\\Mahsa'"
   ]
  },
  {
   "cell_type": "code",
   "execution_count": 12,
   "metadata": {},
   "outputs": [],
   "source": [
    "files = !dir $dirname"
   ]
  },
  {
   "cell_type": "code",
   "execution_count": 13,
   "metadata": {},
   "outputs": [
    {
     "name": "stdout",
     "output_type": "stream",
     "text": [
      "there are 78 files in C:\\Users\\Mahsa\n"
     ]
    }
   ],
   "source": [
    "print(\"there are {} files in {}\".format(len(files),dirname))"
   ]
  },
  {
   "cell_type": "markdown",
   "metadata": {},
   "source": [
    "What the Jupyter is doing here is referred as a REPL, which stands for read, eval, print and loop. It reads what you entered in a cell, evaluates it, and prints the result. Then it loops by waiting for more input. \n",
    "\n",
    "This is a very old practice coming from early LISP systems in the 1960s. The regular Python interpreter works the same way when in interactive mode. However, when we run Python on a Python script, it does only the RE part. It reads and evaluates. It will not print unless you tell it so, and it will not loop unless you tell it so. \n",
    "\n",
    "The REPL method is not unique to Python. You can find it in many other languages including databases, which provide an SQL REPL. It's a very powerful way to work since you'll find your errors very soon after you write them, which makes it easier to fix them. I highly recommend working this way, and hope you'll find REPL method as powerful as I do. So that is the basic overview of code cells in Jupyter notebooks.\n",
    "\n",
    "## Jupyter Markdowns\n",
    "\n",
    "One of the common uses for Jupyter notebooks is to publish reports. When we publish a report, we'd like to write the commentation that explains what are we doing and why, interpret results, give references, and more.\n",
    "\n",
    "Let's add a list. Let's start with asterisk marks and every item is its own line. And when we want a list of items and run the cell, you will see that the list has rendered as an HTML list.\n",
    "\n",
    "* Line 1\n",
    "* Line 2\n",
    "* Line 3\n",
    "\n",
    "Markdown has headings for chapter headings. So, we can do heading one and start it with the single hash mark and this will be the biggest heading, or we can do heading two. This will be a smaller heading we start with two hash marks. When we render them, we'll see that they are rendered as headings, and they even have a link so we can reference this specific part of the commentation.\n",
    "\n",
    "# Heading1\n",
    "## Heading2\n",
    "\n",
    "We can also add links. For example, let's link to the Pandas website. \n",
    "\n",
    "[Pandas](http://pandas.pydata.org) is awesome!\n",
    "\n",
    "We can also add images. Images start with an exclamation point then an empty square brackets. Then, inside the regular brackets, the URL for the image that we'd like to display.\n",
    "\n",
    "![](https://www.bluecross.org.uk/sites/default/files/assets/images/118809lpr.jpg)\n",
    "\n",
    "We can also add a math equation. What's inside the dollar sign is called LaTex. LaTex is a language for writing scientific papers. I encourage you to check out a free book called \"The Not So Short Introduction to LaTex\" and learn more from it.\n",
    "\n",
    "$e^{2}*\\pi+1=0$\n"
   ]
  },
  {
   "cell_type": "markdown",
   "metadata": {},
   "source": [
    "## Editing Notebooks\n",
    "\n",
    "Notebooks are generally great for doing research and working with data. However, after completing your initial research, it's a good practice to tidy up your notebook before presenting it to others.\n",
    "\n",
    "The first icon is for saving the current state of the notebook. Jupyter does this automatically from time to time, but you can still save manually. When you save, a checkpoint is created. You can revert to an earlier checkpoint from the file, revert checkpoint menu. Next, we have some notebook editing buttons.\n",
    "\n",
    "I highly recommend that you run the notebook after you've rearranged it. There are two options to run everything. One is from the cell run all menu. However, this runs the notebook in its current state. So, if I define a variable in a cell and then delete the cell, Jupyter still remembers this variable. This is why I prefer the more aggressive method of kernel restart and run all. The kernel is the background Python process that Jupyter speaks to. There's one per notebook. If you restart it, the notebook starts from a clean slate. \n",
    "\n",
    "A final note about notebooks is that they are not a good tool for developing software. For one, the notebook format, the dot I pi and B file, is a json file, not Python.\n",
    "So you can't turn it from a Python interpreter. Secondly, there's no way to use notebooks from other notebooks the way we do the Python models. Once a notebook you created these variables as a Python model, you can export it to a Python file and edit it. We'll do it by clicking on the file, download as, Python menu.\n",
    "\n"
   ]
  },
  {
   "cell_type": "code",
   "execution_count": null,
   "metadata": {},
   "outputs": [],
   "source": []
  }
 ],
 "metadata": {
  "kernelspec": {
   "display_name": "Python 3",
   "language": "python",
   "name": "python3"
  },
  "language_info": {
   "codemirror_mode": {
    "name": "ipython",
    "version": 3
   },
   "file_extension": ".py",
   "mimetype": "text/x-python",
   "name": "python",
   "nbconvert_exporter": "python",
   "pygments_lexer": "ipython3",
   "version": "3.6.4"
  }
 },
 "nbformat": 4,
 "nbformat_minor": 2
}
